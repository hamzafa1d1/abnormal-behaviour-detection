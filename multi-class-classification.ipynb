{
 "metadata": {
  "kernelspec": {
   "language": "python",
   "display_name": "Python 3",
   "name": "python3"
  },
  "language_info": {
   "name": "python",
   "version": "3.10.12",
   "mimetype": "text/x-python",
   "codemirror_mode": {
    "name": "ipython",
    "version": 3
   },
   "pygments_lexer": "ipython3",
   "nbconvert_exporter": "python",
   "file_extension": ".py"
  },
  "kaggle": {
   "accelerator": "gpu",
   "dataSources": [
    {
     "sourceId": 451400,
     "sourceType": "datasetVersion",
     "datasetId": 205791
    },
    {
     "sourceId": 7355794,
     "sourceType": "datasetVersion",
     "datasetId": 4272206
    }
   ],
   "dockerImageVersionId": 30587,
   "isInternetEnabled": true,
   "language": "python",
   "sourceType": "notebook",
   "isGpuEnabled": true
  }
 },
 "nbformat_minor": 4,
 "nbformat": 4,
 "cells": [
  {
   "cell_type": "code",
   "source": [
    "import os\n",
    "import numpy as np\n",
    "import cv2\n",
    "import pandas as pd\n",
    "import csv\n",
    "import os\n",
    "from tensorflow import keras\n",
    "from tensorflow.keras.layers import *\n",
    "from tensorflow.keras.optimizers import Adam\n",
    "from sklearn.model_selection import train_test_split\n",
    "from keras.models import Sequential\n",
    "from tensorflow.keras import layers, Sequential"
   ],
   "metadata": {
    "_uuid": "8f2839f25d086af736a60e9eeb907d3b93b6e0e5",
    "_cell_guid": "b1076dfc-b9ad-4769-8c92-a6c4dae69d19",
    "execution": {
     "iopub.status.busy": "2024-01-07T22:03:47.392613Z",
     "iopub.execute_input": "2024-01-07T22:03:47.392972Z",
     "iopub.status.idle": "2024-01-07T22:03:47.400553Z",
     "shell.execute_reply.started": "2024-01-07T22:03:47.392941Z",
     "shell.execute_reply": "2024-01-07T22:03:47.398974Z"
    },
    "trusted": true
   },
   "execution_count": 4,
   "outputs": []
  },
  {
   "cell_type": "code",
   "source": [
    "#!pip install git+https://github.com/tensorflow/docs\n",
    "#! pip install tensorflow --upgrade"
   ],
   "metadata": {
    "execution": {
     "iopub.status.busy": "2024-01-06T16:43:42.414141Z",
     "iopub.execute_input": "2024-01-06T16:43:42.414976Z",
     "iopub.status.idle": "2024-01-06T16:43:42.418725Z",
     "shell.execute_reply.started": "2024-01-06T16:43:42.414939Z",
     "shell.execute_reply": "2024-01-06T16:43:42.417813Z"
    },
    "trusted": true
   },
   "execution_count": null,
   "outputs": []
  },
  {
   "cell_type": "code",
   "source": [
    "from tensorflow import keras\n",
    "\n",
    "import matplotlib.pyplot as plt\n",
    "import tensorflow as tf\n",
    "import pandas as pd\n",
    "import numpy as np\n",
    "import cv2\n",
    "import os"
   ],
   "metadata": {
    "execution": {
     "iopub.status.busy": "2024-01-07T22:03:50.081297Z",
     "iopub.execute_input": "2024-01-07T22:03:50.081670Z",
     "iopub.status.idle": "2024-01-07T22:03:50.086533Z",
     "shell.execute_reply.started": "2024-01-07T22:03:50.081639Z",
     "shell.execute_reply": "2024-01-07T22:03:50.085485Z"
    },
    "trusted": true
   },
   "execution_count": 5,
   "outputs": []
  },
  {
   "cell_type": "code",
   "source": [
    "# Specify the directory where your CSV files are located\n",
    "directory_path = '/kaggle/input/dcsass-dataset/DCSASS Dataset/Labels'\n",
    "videos_directory = '/kaggle/input/dcsass-dataset/DCSASS Dataset'\n",
    "\n",
    "def prepareParentVideoPath(video_name):\n",
    "    video_path = \"\"\n",
    "    done = False\n",
    "    for c in video_name:\n",
    "        if(done and c == '_'):\n",
    "            return video_path\n",
    "        video_path += c\n",
    "        if(c == '_'):\n",
    "            done = True\n",
    "    return \"\"\n",
    "        \n",
    "# Initialize empty lists to store video names and abnormal behaviors\n",
    "video_paths = []\n",
    "labels = []\n",
    "\n",
    "# Iterate over each file in the directory\n",
    "for filename in os.listdir(directory_path):\n",
    "    if filename.endswith('.csv'):\n",
    "        file_path = os.path.join(directory_path, filename)\n",
    "\n",
    "        # Open the CSV file and read its contents\n",
    "        with open(file_path, 'r') as csv_file:\n",
    "            csv_reader = csv.reader(csv_file)\n",
    "\n",
    "            # Skip the header if it exists\n",
    "            next(csv_reader, None)\n",
    "\n",
    "            # Iterate over each row in the CSV file\n",
    "            for row in csv_reader:\n",
    "                # Assuming the first column is the video name and the second column is the abnormal behavior\n",
    "                video_path = videos_directory + '/' + filename[:-4] + '/' + prepareParentVideoPath(row[0]) + '.mp4' + '/' + row[0] + '.mp4' #row[0]\n",
    "                label = row[2]  # Convert the value to an integer\n",
    "                behavior = \"\"\n",
    "                if(label == '1'):\n",
    "                    behavior = filename[:-4]\n",
    "                elif(label == '0'):\n",
    "                    behavior = \"Normal\"\n",
    "                else:\n",
    "                    continue\n",
    "                # Append the values to the respective lists\n",
    "                video_paths.append(video_path)\n",
    "                labels.append(behavior)"
   ],
   "metadata": {
    "execution": {
     "iopub.status.busy": "2024-01-07T22:32:59.845924Z",
     "iopub.execute_input": "2024-01-07T22:32:59.846270Z",
     "iopub.status.idle": "2024-01-07T22:32:59.966377Z",
     "shell.execute_reply.started": "2024-01-07T22:32:59.846243Z",
     "shell.execute_reply": "2024-01-07T22:32:59.965484Z"
    },
    "trusted": true
   },
   "execution_count": 65,
   "outputs": []
  },
  {
   "cell_type": "code",
   "source": [
    "data = {'Video Path': video_paths, 'Label': labels}\n",
    "df = pd.DataFrame(data)\n",
    "\n",
    "# Specify the test size (e.g., 0.2 for 20% test data)\n",
    "test_size = 0.2\n"
   ],
   "metadata": {
    "execution": {
     "iopub.status.busy": "2024-01-07T22:33:01.224221Z",
     "iopub.execute_input": "2024-01-07T22:33:01.224913Z",
     "iopub.status.idle": "2024-01-07T22:33:01.232919Z",
     "shell.execute_reply.started": "2024-01-07T22:33:01.224877Z",
     "shell.execute_reply": "2024-01-07T22:33:01.232012Z"
    },
    "trusted": true
   },
   "execution_count": 66,
   "outputs": []
  },
  {
   "cell_type": "code",
   "source": [
    "desired_rows_per_label = 10\n",
    "test = df.groupby('Label').head(desired_rows_per_label)\n",
    "\n",
    "print(test)"
   ],
   "metadata": {
    "execution": {
     "iopub.status.busy": "2024-01-07T22:33:05.392182Z",
     "iopub.execute_input": "2024-01-07T22:33:05.392578Z",
     "iopub.status.idle": "2024-01-07T22:33:05.404302Z",
     "shell.execute_reply.started": "2024-01-07T22:33:05.392545Z",
     "shell.execute_reply": "2024-01-07T22:33:05.403344Z"
    },
    "trusted": true
   },
   "execution_count": 67,
   "outputs": [
    {
     "name": "stdout",
     "text": "                                              Video Path     Label\n0      /kaggle/input/dcsass-dataset/DCSASS Dataset/Bu...    Normal\n1      /kaggle/input/dcsass-dataset/DCSASS Dataset/Bu...  Burglary\n2      /kaggle/input/dcsass-dataset/DCSASS Dataset/Bu...  Burglary\n3      /kaggle/input/dcsass-dataset/DCSASS Dataset/Bu...    Normal\n4      /kaggle/input/dcsass-dataset/DCSASS Dataset/Bu...  Burglary\n...                                                  ...       ...\n16369  /kaggle/input/dcsass-dataset/DCSASS Dataset/Fi...  Fighting\n16370  /kaggle/input/dcsass-dataset/DCSASS Dataset/Fi...  Fighting\n16371  /kaggle/input/dcsass-dataset/DCSASS Dataset/Fi...  Fighting\n16385  /kaggle/input/dcsass-dataset/DCSASS Dataset/Fi...  Fighting\n16412  /kaggle/input/dcsass-dataset/DCSASS Dataset/Fi...  Fighting\n\n[140 rows x 2 columns]\n",
     "output_type": "stream"
    }
   ]
  },
  {
   "cell_type": "code",
   "source": [
    "test.shape"
   ],
   "metadata": {
    "execution": {
     "iopub.status.busy": "2024-01-07T22:33:16.204209Z",
     "iopub.execute_input": "2024-01-07T22:33:16.204592Z",
     "iopub.status.idle": "2024-01-07T22:33:16.210652Z",
     "shell.execute_reply.started": "2024-01-07T22:33:16.204560Z",
     "shell.execute_reply": "2024-01-07T22:33:16.209671Z"
    },
    "trusted": true
   },
   "execution_count": 69,
   "outputs": [
    {
     "execution_count": 69,
     "output_type": "execute_result",
     "data": {
      "text/plain": "(140, 2)"
     },
     "metadata": {}
    }
   ]
  },
  {
   "cell_type": "code",
   "source": [
    "import pandas as pd\n",
    "from sklearn.preprocessing import OneHotEncoder\n",
    "\n",
    "# Initialize OneHotEncoder\n",
    "encoder = OneHotEncoder()\n",
    "\n",
    "# Fit and transform the 'Label' column\n",
    "encoded_data = encoder.fit_transform(df[['Label']])\n",
    "\n",
    "# Get the feature names after one-hot encoding\n",
    "encoded_feature_names = encoder.get_feature_names_out(['Label'])\n",
    "\n",
    "# Save the mapping to a DataFrame\n",
    "mapping_df = pd.DataFrame({'Original_Category': encoded_feature_names,\n",
    "                           'Encoded_Column': range(encoded_data.shape[1])})\n",
    "\n",
    "# Display the mapping DataFrame\n",
    "print(\"Mapping between 'Normal' and encoded values:\")\n",
    "print(mapping_df)\n",
    "\n",
    "# Apply OneHotEncoder to the 'Label' column and append to the original DataFrame\n",
    "df_encoded = pd.concat([df, pd.DataFrame(encoded_data.toarray(), columns=encoded_feature_names)], axis=1)\n",
    "\n",
    "# Display the DataFrame with the one-hot encoded 'Label' column\n",
    "print(\"\\nDataFrame with One-Hot Encoded 'Label' column:\")\n",
    "print(df_encoded)\n"
   ],
   "metadata": {
    "execution": {
     "iopub.status.busy": "2024-01-07T22:33:27.204277Z",
     "iopub.execute_input": "2024-01-07T22:33:27.205342Z",
     "iopub.status.idle": "2024-01-07T22:33:27.240540Z",
     "shell.execute_reply.started": "2024-01-07T22:33:27.205299Z",
     "shell.execute_reply": "2024-01-07T22:33:27.239640Z"
    },
    "trusted": true
   },
   "execution_count": 70,
   "outputs": [
    {
     "name": "stdout",
     "text": "Mapping between 'Normal' and encoded values:\n      Original_Category  Encoded_Column\n0           Label_Abuse               0\n1          Label_Arrest               1\n2           Label_Arson               2\n3         Label_Assault               3\n4        Label_Burglary               4\n5       Label_Explosion               5\n6        Label_Fighting               6\n7          Label_Normal               7\n8   Label_RoadAccidents               8\n9         Label_Robbery               9\n10       Label_Shooting              10\n11    Label_Shoplifting              11\n12       Label_Stealing              12\n13      Label_Vandalism              13\n\nDataFrame with One-Hot Encoded 'Label' column:\n                                              Video Path     Label  \\\n0      /kaggle/input/dcsass-dataset/DCSASS Dataset/Bu...    Normal   \n1      /kaggle/input/dcsass-dataset/DCSASS Dataset/Bu...  Burglary   \n2      /kaggle/input/dcsass-dataset/DCSASS Dataset/Bu...  Burglary   \n3      /kaggle/input/dcsass-dataset/DCSASS Dataset/Bu...    Normal   \n4      /kaggle/input/dcsass-dataset/DCSASS Dataset/Bu...  Burglary   \n...                                                  ...       ...   \n16611  /kaggle/input/dcsass-dataset/DCSASS Dataset/Fi...    Normal   \n16612  /kaggle/input/dcsass-dataset/DCSASS Dataset/Fi...    Normal   \n16613  /kaggle/input/dcsass-dataset/DCSASS Dataset/Fi...    Normal   \n16614  /kaggle/input/dcsass-dataset/DCSASS Dataset/Fi...    Normal   \n16615  /kaggle/input/dcsass-dataset/DCSASS Dataset/Fi...    Normal   \n\n       Label_Abuse  Label_Arrest  Label_Arson  Label_Assault  Label_Burglary  \\\n0              0.0           0.0          0.0            0.0             0.0   \n1              0.0           0.0          0.0            0.0             1.0   \n2              0.0           0.0          0.0            0.0             1.0   \n3              0.0           0.0          0.0            0.0             0.0   \n4              0.0           0.0          0.0            0.0             1.0   \n...            ...           ...          ...            ...             ...   \n16611          0.0           0.0          0.0            0.0             0.0   \n16612          0.0           0.0          0.0            0.0             0.0   \n16613          0.0           0.0          0.0            0.0             0.0   \n16614          0.0           0.0          0.0            0.0             0.0   \n16615          0.0           0.0          0.0            0.0             0.0   \n\n       Label_Explosion  Label_Fighting  Label_Normal  Label_RoadAccidents  \\\n0                  0.0             0.0           1.0                  0.0   \n1                  0.0             0.0           0.0                  0.0   \n2                  0.0             0.0           0.0                  0.0   \n3                  0.0             0.0           1.0                  0.0   \n4                  0.0             0.0           0.0                  0.0   \n...                ...             ...           ...                  ...   \n16611              0.0             0.0           1.0                  0.0   \n16612              0.0             0.0           1.0                  0.0   \n16613              0.0             0.0           1.0                  0.0   \n16614              0.0             0.0           1.0                  0.0   \n16615              0.0             0.0           1.0                  0.0   \n\n       Label_Robbery  Label_Shooting  Label_Shoplifting  Label_Stealing  \\\n0                0.0             0.0                0.0             0.0   \n1                0.0             0.0                0.0             0.0   \n2                0.0             0.0                0.0             0.0   \n3                0.0             0.0                0.0             0.0   \n4                0.0             0.0                0.0             0.0   \n...              ...             ...                ...             ...   \n16611            0.0             0.0                0.0             0.0   \n16612            0.0             0.0                0.0             0.0   \n16613            0.0             0.0                0.0             0.0   \n16614            0.0             0.0                0.0             0.0   \n16615            0.0             0.0                0.0             0.0   \n\n       Label_Vandalism  \n0                  0.0  \n1                  0.0  \n2                  0.0  \n3                  0.0  \n4                  0.0  \n...                ...  \n16611              0.0  \n16612              0.0  \n16613              0.0  \n16614              0.0  \n16615              0.0  \n\n[16616 rows x 16 columns]\n",
     "output_type": "stream"
    },
    {
     "name": "stderr",
     "text": "/opt/conda/lib/python3.10/site-packages/sklearn/utils/validation.py:605: FutureWarning: is_sparse is deprecated and will be removed in a future version. Check `isinstance(dtype, pd.SparseDtype)` instead.\n  if is_sparse(pd_dtype):\n/opt/conda/lib/python3.10/site-packages/sklearn/utils/validation.py:614: FutureWarning: is_sparse is deprecated and will be removed in a future version. Check `isinstance(dtype, pd.SparseDtype)` instead.\n  if is_sparse(pd_dtype) or not is_extension_array_dtype(pd_dtype):\n/opt/conda/lib/python3.10/site-packages/sklearn/utils/validation.py:605: FutureWarning: is_sparse is deprecated and will be removed in a future version. Check `isinstance(dtype, pd.SparseDtype)` instead.\n  if is_sparse(pd_dtype):\n/opt/conda/lib/python3.10/site-packages/sklearn/utils/validation.py:614: FutureWarning: is_sparse is deprecated and will be removed in a future version. Check `isinstance(dtype, pd.SparseDtype)` instead.\n  if is_sparse(pd_dtype) or not is_extension_array_dtype(pd_dtype):\n",
     "output_type": "stream"
    }
   ]
  },
  {
   "cell_type": "code",
   "source": [
    "data = encoder.fit_transform(test[['Label']]).toarray()\n",
    "data_df = pd.DataFrame(data, columns=encoded_feature_names)\n",
    "#test_encoded = pd.concat([test, data_df] , axis=1)\n",
    "test_encoded = test.join(data_df)"
   ],
   "metadata": {
    "execution": {
     "iopub.status.busy": "2024-01-07T22:34:51.572612Z",
     "iopub.execute_input": "2024-01-07T22:34:51.572973Z",
     "iopub.status.idle": "2024-01-07T22:34:51.583283Z",
     "shell.execute_reply.started": "2024-01-07T22:34:51.572945Z",
     "shell.execute_reply": "2024-01-07T22:34:51.582380Z"
    },
    "trusted": true
   },
   "execution_count": 74,
   "outputs": [
    {
     "name": "stderr",
     "text": "/opt/conda/lib/python3.10/site-packages/sklearn/utils/validation.py:605: FutureWarning: is_sparse is deprecated and will be removed in a future version. Check `isinstance(dtype, pd.SparseDtype)` instead.\n  if is_sparse(pd_dtype):\n/opt/conda/lib/python3.10/site-packages/sklearn/utils/validation.py:614: FutureWarning: is_sparse is deprecated and will be removed in a future version. Check `isinstance(dtype, pd.SparseDtype)` instead.\n  if is_sparse(pd_dtype) or not is_extension_array_dtype(pd_dtype):\n/opt/conda/lib/python3.10/site-packages/sklearn/utils/validation.py:605: FutureWarning: is_sparse is deprecated and will be removed in a future version. Check `isinstance(dtype, pd.SparseDtype)` instead.\n  if is_sparse(pd_dtype):\n/opt/conda/lib/python3.10/site-packages/sklearn/utils/validation.py:614: FutureWarning: is_sparse is deprecated and will be removed in a future version. Check `isinstance(dtype, pd.SparseDtype)` instead.\n  if is_sparse(pd_dtype) or not is_extension_array_dtype(pd_dtype):\n",
     "output_type": "stream"
    }
   ]
  },
  {
   "cell_type": "code",
   "source": [
    "test_encoded.head()"
   ],
   "metadata": {
    "execution": {
     "iopub.status.busy": "2024-01-07T22:35:01.004523Z",
     "iopub.execute_input": "2024-01-07T22:35:01.005169Z",
     "iopub.status.idle": "2024-01-07T22:35:01.028471Z",
     "shell.execute_reply.started": "2024-01-07T22:35:01.005132Z",
     "shell.execute_reply": "2024-01-07T22:35:01.027601Z"
    },
    "trusted": true
   },
   "execution_count": 76,
   "outputs": [
    {
     "execution_count": 76,
     "output_type": "execute_result",
     "data": {
      "text/plain": "                                          Video Path     Label  Label_Abuse  \\\n0  /kaggle/input/dcsass-dataset/DCSASS Dataset/Bu...    Normal          0.0   \n1  /kaggle/input/dcsass-dataset/DCSASS Dataset/Bu...  Burglary          0.0   \n2  /kaggle/input/dcsass-dataset/DCSASS Dataset/Bu...  Burglary          0.0   \n3  /kaggle/input/dcsass-dataset/DCSASS Dataset/Bu...    Normal          0.0   \n4  /kaggle/input/dcsass-dataset/DCSASS Dataset/Bu...  Burglary          0.0   \n\n   Label_Arrest  Label_Arson  Label_Assault  Label_Burglary  Label_Explosion  \\\n0           0.0          0.0            0.0             0.0              0.0   \n1           0.0          0.0            0.0             1.0              0.0   \n2           0.0          0.0            0.0             1.0              0.0   \n3           0.0          0.0            0.0             0.0              0.0   \n4           0.0          0.0            0.0             1.0              0.0   \n\n   Label_Fighting  Label_Normal  Label_RoadAccidents  Label_Robbery  \\\n0             0.0           1.0                  0.0            0.0   \n1             0.0           0.0                  0.0            0.0   \n2             0.0           0.0                  0.0            0.0   \n3             0.0           1.0                  0.0            0.0   \n4             0.0           0.0                  0.0            0.0   \n\n   Label_Shooting  Label_Shoplifting  Label_Stealing  Label_Vandalism  \n0             0.0                0.0             0.0              0.0  \n1             0.0                0.0             0.0              0.0  \n2             0.0                0.0             0.0              0.0  \n3             0.0                0.0             0.0              0.0  \n4             0.0                0.0             0.0              0.0  ",
      "text/html": "<div>\n<style scoped>\n    .dataframe tbody tr th:only-of-type {\n        vertical-align: middle;\n    }\n\n    .dataframe tbody tr th {\n        vertical-align: top;\n    }\n\n    .dataframe thead th {\n        text-align: right;\n    }\n</style>\n<table border=\"1\" class=\"dataframe\">\n  <thead>\n    <tr style=\"text-align: right;\">\n      <th></th>\n      <th>Video Path</th>\n      <th>Label</th>\n      <th>Label_Abuse</th>\n      <th>Label_Arrest</th>\n      <th>Label_Arson</th>\n      <th>Label_Assault</th>\n      <th>Label_Burglary</th>\n      <th>Label_Explosion</th>\n      <th>Label_Fighting</th>\n      <th>Label_Normal</th>\n      <th>Label_RoadAccidents</th>\n      <th>Label_Robbery</th>\n      <th>Label_Shooting</th>\n      <th>Label_Shoplifting</th>\n      <th>Label_Stealing</th>\n      <th>Label_Vandalism</th>\n    </tr>\n  </thead>\n  <tbody>\n    <tr>\n      <th>0</th>\n      <td>/kaggle/input/dcsass-dataset/DCSASS Dataset/Bu...</td>\n      <td>Normal</td>\n      <td>0.0</td>\n      <td>0.0</td>\n      <td>0.0</td>\n      <td>0.0</td>\n      <td>0.0</td>\n      <td>0.0</td>\n      <td>0.0</td>\n      <td>1.0</td>\n      <td>0.0</td>\n      <td>0.0</td>\n      <td>0.0</td>\n      <td>0.0</td>\n      <td>0.0</td>\n      <td>0.0</td>\n    </tr>\n    <tr>\n      <th>1</th>\n      <td>/kaggle/input/dcsass-dataset/DCSASS Dataset/Bu...</td>\n      <td>Burglary</td>\n      <td>0.0</td>\n      <td>0.0</td>\n      <td>0.0</td>\n      <td>0.0</td>\n      <td>1.0</td>\n      <td>0.0</td>\n      <td>0.0</td>\n      <td>0.0</td>\n      <td>0.0</td>\n      <td>0.0</td>\n      <td>0.0</td>\n      <td>0.0</td>\n      <td>0.0</td>\n      <td>0.0</td>\n    </tr>\n    <tr>\n      <th>2</th>\n      <td>/kaggle/input/dcsass-dataset/DCSASS Dataset/Bu...</td>\n      <td>Burglary</td>\n      <td>0.0</td>\n      <td>0.0</td>\n      <td>0.0</td>\n      <td>0.0</td>\n      <td>1.0</td>\n      <td>0.0</td>\n      <td>0.0</td>\n      <td>0.0</td>\n      <td>0.0</td>\n      <td>0.0</td>\n      <td>0.0</td>\n      <td>0.0</td>\n      <td>0.0</td>\n      <td>0.0</td>\n    </tr>\n    <tr>\n      <th>3</th>\n      <td>/kaggle/input/dcsass-dataset/DCSASS Dataset/Bu...</td>\n      <td>Normal</td>\n      <td>0.0</td>\n      <td>0.0</td>\n      <td>0.0</td>\n      <td>0.0</td>\n      <td>0.0</td>\n      <td>0.0</td>\n      <td>0.0</td>\n      <td>1.0</td>\n      <td>0.0</td>\n      <td>0.0</td>\n      <td>0.0</td>\n      <td>0.0</td>\n      <td>0.0</td>\n      <td>0.0</td>\n    </tr>\n    <tr>\n      <th>4</th>\n      <td>/kaggle/input/dcsass-dataset/DCSASS Dataset/Bu...</td>\n      <td>Burglary</td>\n      <td>0.0</td>\n      <td>0.0</td>\n      <td>0.0</td>\n      <td>0.0</td>\n      <td>1.0</td>\n      <td>0.0</td>\n      <td>0.0</td>\n      <td>0.0</td>\n      <td>0.0</td>\n      <td>0.0</td>\n      <td>0.0</td>\n      <td>0.0</td>\n      <td>0.0</td>\n      <td>0.0</td>\n    </tr>\n  </tbody>\n</table>\n</div>"
     },
     "metadata": {}
    }
   ]
  },
  {
   "cell_type": "code",
   "source": [
    "train_df, test_df = train_test_split(df_encoded, test_size=test_size, random_state=42, shuffle=True)"
   ],
   "metadata": {
    "execution": {
     "iopub.status.busy": "2024-01-07T15:15:07.696576Z",
     "iopub.execute_input": "2024-01-07T15:15:07.697466Z",
     "iopub.status.idle": "2024-01-07T15:15:07.707497Z",
     "shell.execute_reply.started": "2024-01-07T15:15:07.697431Z",
     "shell.execute_reply": "2024-01-07T15:15:07.706449Z"
    },
    "trusted": true
   },
   "execution_count": 27,
   "outputs": []
  },
  {
   "cell_type": "code",
   "source": [
    "gpus = tf.config.experimental.list_physical_devices('GPU')\n",
    "if gpus:\n",
    "  try:\n",
    "    tf.config.experimental.set_virtual_device_configuration(\n",
    "        gpus[0],[tf.config.experimental.VirtualDeviceConfiguration(memory_limit=5120)])\n",
    "  except RuntimeError as e:\n",
    "    print(e)"
   ],
   "metadata": {
    "execution": {
     "iopub.status.busy": "2024-01-07T22:22:08.964264Z",
     "iopub.execute_input": "2024-01-07T22:22:08.964658Z",
     "iopub.status.idle": "2024-01-07T22:22:09.359408Z",
     "shell.execute_reply.started": "2024-01-07T22:22:08.964627Z",
     "shell.execute_reply": "2024-01-07T22:22:09.358288Z"
    },
    "trusted": true
   },
   "execution_count": 42,
   "outputs": []
  },
  {
   "cell_type": "code",
   "source": [
    "# train_encoded_data = encoder.fit_transform(train_df[['Label']])\n",
    "# train_df_encoded = pd.concat([train_df, pd.DataFrame(train_encoded_data.toarray(), columns=encoded_feature_names)], axis=1)\n",
    "# train_df_encoded.drop('Label', axis=1, inplace=True)\n",
    "train_df.isnull().sum()"
   ],
   "metadata": {
    "execution": {
     "iopub.status.busy": "2024-01-07T15:16:16.852390Z",
     "iopub.execute_input": "2024-01-07T15:16:16.852765Z",
     "iopub.status.idle": "2024-01-07T15:16:16.868488Z",
     "shell.execute_reply.started": "2024-01-07T15:16:16.852737Z",
     "shell.execute_reply": "2024-01-07T15:16:16.867429Z"
    },
    "trusted": true
   },
   "execution_count": 29,
   "outputs": [
    {
     "execution_count": 29,
     "output_type": "execute_result",
     "data": {
      "text/plain": "Video Path             0\nLabel                  0\nLabel_Abuse            0\nLabel_Arrest           0\nLabel_Arson            0\nLabel_Assault          0\nLabel_Burglary         0\nLabel_Explosion        0\nLabel_Fighting         0\nLabel_Normal           0\nLabel_RoadAccidents    0\nLabel_Robbery          0\nLabel_Shooting         0\nLabel_Shoplifting      0\nLabel_Stealing         0\nLabel_Vandalism        0\ndtype: int64"
     },
     "metadata": {}
    }
   ]
  },
  {
   "cell_type": "code",
   "source": [
    "df_encoded.sample(10)"
   ],
   "metadata": {
    "execution": {
     "iopub.status.busy": "2024-01-07T12:57:30.038806Z",
     "iopub.execute_input": "2024-01-07T12:57:30.039639Z",
     "iopub.status.idle": "2024-01-07T12:57:30.077681Z",
     "shell.execute_reply.started": "2024-01-07T12:57:30.039604Z",
     "shell.execute_reply": "2024-01-07T12:57:30.076836Z"
    },
    "trusted": true
   },
   "execution_count": 8,
   "outputs": [
    {
     "execution_count": 8,
     "output_type": "execute_result",
     "data": {
      "text/plain": "                                              Video Path          Label  \\\n13120  /kaggle/input/dcsass-dataset/DCSASS Dataset/Ro...         Normal   \n8639   /kaggle/input/dcsass-dataset/DCSASS Dataset/St...       Stealing   \n355    /kaggle/input/dcsass-dataset/DCSASS Dataset/Bu...       Burglary   \n8338   /kaggle/input/dcsass-dataset/DCSASS Dataset/St...         Normal   \n3747   /kaggle/input/dcsass-dataset/DCSASS Dataset/Ro...  RoadAccidents   \n8857   /kaggle/input/dcsass-dataset/DCSASS Dataset/St...         Normal   \n1324   /kaggle/input/dcsass-dataset/DCSASS Dataset/Bu...       Burglary   \n12008  /kaggle/input/dcsass-dataset/DCSASS Dataset/Ro...         Normal   \n9644   /kaggle/input/dcsass-dataset/DCSASS Dataset/St...       Stealing   \n1505   /kaggle/input/dcsass-dataset/DCSASS Dataset/Ab...         Normal   \n\n       Label_Abuse  Label_Arrest  Label_Arson  Label_Assault  Label_Burglary  \\\n13120          0.0           0.0          0.0            0.0             0.0   \n8639           0.0           0.0          0.0            0.0             0.0   \n355            0.0           0.0          0.0            0.0             1.0   \n8338           0.0           0.0          0.0            0.0             0.0   \n3747           0.0           0.0          0.0            0.0             0.0   \n8857           0.0           0.0          0.0            0.0             0.0   \n1324           0.0           0.0          0.0            0.0             1.0   \n12008          0.0           0.0          0.0            0.0             0.0   \n9644           0.0           0.0          0.0            0.0             0.0   \n1505           0.0           0.0          0.0            0.0             0.0   \n\n       Label_Explosion  Label_Fighting  Label_Normal  Label_RoadAccidents  \\\n13120              0.0             0.0           1.0                  0.0   \n8639               0.0             0.0           0.0                  0.0   \n355                0.0             0.0           0.0                  0.0   \n8338               0.0             0.0           1.0                  0.0   \n3747               0.0             0.0           0.0                  1.0   \n8857               0.0             0.0           1.0                  0.0   \n1324               0.0             0.0           0.0                  0.0   \n12008              0.0             0.0           1.0                  0.0   \n9644               0.0             0.0           0.0                  0.0   \n1505               0.0             0.0           1.0                  0.0   \n\n       Label_Robbery  Label_Shooting  Label_Shoplifting  Label_Stealing  \\\n13120            0.0             0.0                0.0             0.0   \n8639             0.0             0.0                0.0             1.0   \n355              0.0             0.0                0.0             0.0   \n8338             0.0             0.0                0.0             0.0   \n3747             0.0             0.0                0.0             0.0   \n8857             0.0             0.0                0.0             0.0   \n1324             0.0             0.0                0.0             0.0   \n12008            0.0             0.0                0.0             0.0   \n9644             0.0             0.0                0.0             1.0   \n1505             0.0             0.0                0.0             0.0   \n\n       Label_Vandalism  \n13120              0.0  \n8639               0.0  \n355                0.0  \n8338               0.0  \n3747               0.0  \n8857               0.0  \n1324               0.0  \n12008              0.0  \n9644               0.0  \n1505               0.0  ",
      "text/html": "<div>\n<style scoped>\n    .dataframe tbody tr th:only-of-type {\n        vertical-align: middle;\n    }\n\n    .dataframe tbody tr th {\n        vertical-align: top;\n    }\n\n    .dataframe thead th {\n        text-align: right;\n    }\n</style>\n<table border=\"1\" class=\"dataframe\">\n  <thead>\n    <tr style=\"text-align: right;\">\n      <th></th>\n      <th>Video Path</th>\n      <th>Label</th>\n      <th>Label_Abuse</th>\n      <th>Label_Arrest</th>\n      <th>Label_Arson</th>\n      <th>Label_Assault</th>\n      <th>Label_Burglary</th>\n      <th>Label_Explosion</th>\n      <th>Label_Fighting</th>\n      <th>Label_Normal</th>\n      <th>Label_RoadAccidents</th>\n      <th>Label_Robbery</th>\n      <th>Label_Shooting</th>\n      <th>Label_Shoplifting</th>\n      <th>Label_Stealing</th>\n      <th>Label_Vandalism</th>\n    </tr>\n  </thead>\n  <tbody>\n    <tr>\n      <th>13120</th>\n      <td>/kaggle/input/dcsass-dataset/DCSASS Dataset/Ro...</td>\n      <td>Normal</td>\n      <td>0.0</td>\n      <td>0.0</td>\n      <td>0.0</td>\n      <td>0.0</td>\n      <td>0.0</td>\n      <td>0.0</td>\n      <td>0.0</td>\n      <td>1.0</td>\n      <td>0.0</td>\n      <td>0.0</td>\n      <td>0.0</td>\n      <td>0.0</td>\n      <td>0.0</td>\n      <td>0.0</td>\n    </tr>\n    <tr>\n      <th>8639</th>\n      <td>/kaggle/input/dcsass-dataset/DCSASS Dataset/St...</td>\n      <td>Stealing</td>\n      <td>0.0</td>\n      <td>0.0</td>\n      <td>0.0</td>\n      <td>0.0</td>\n      <td>0.0</td>\n      <td>0.0</td>\n      <td>0.0</td>\n      <td>0.0</td>\n      <td>0.0</td>\n      <td>0.0</td>\n      <td>0.0</td>\n      <td>0.0</td>\n      <td>1.0</td>\n      <td>0.0</td>\n    </tr>\n    <tr>\n      <th>355</th>\n      <td>/kaggle/input/dcsass-dataset/DCSASS Dataset/Bu...</td>\n      <td>Burglary</td>\n      <td>0.0</td>\n      <td>0.0</td>\n      <td>0.0</td>\n      <td>0.0</td>\n      <td>1.0</td>\n      <td>0.0</td>\n      <td>0.0</td>\n      <td>0.0</td>\n      <td>0.0</td>\n      <td>0.0</td>\n      <td>0.0</td>\n      <td>0.0</td>\n      <td>0.0</td>\n      <td>0.0</td>\n    </tr>\n    <tr>\n      <th>8338</th>\n      <td>/kaggle/input/dcsass-dataset/DCSASS Dataset/St...</td>\n      <td>Normal</td>\n      <td>0.0</td>\n      <td>0.0</td>\n      <td>0.0</td>\n      <td>0.0</td>\n      <td>0.0</td>\n      <td>0.0</td>\n      <td>0.0</td>\n      <td>1.0</td>\n      <td>0.0</td>\n      <td>0.0</td>\n      <td>0.0</td>\n      <td>0.0</td>\n      <td>0.0</td>\n      <td>0.0</td>\n    </tr>\n    <tr>\n      <th>3747</th>\n      <td>/kaggle/input/dcsass-dataset/DCSASS Dataset/Ro...</td>\n      <td>RoadAccidents</td>\n      <td>0.0</td>\n      <td>0.0</td>\n      <td>0.0</td>\n      <td>0.0</td>\n      <td>0.0</td>\n      <td>0.0</td>\n      <td>0.0</td>\n      <td>0.0</td>\n      <td>1.0</td>\n      <td>0.0</td>\n      <td>0.0</td>\n      <td>0.0</td>\n      <td>0.0</td>\n      <td>0.0</td>\n    </tr>\n    <tr>\n      <th>8857</th>\n      <td>/kaggle/input/dcsass-dataset/DCSASS Dataset/St...</td>\n      <td>Normal</td>\n      <td>0.0</td>\n      <td>0.0</td>\n      <td>0.0</td>\n      <td>0.0</td>\n      <td>0.0</td>\n      <td>0.0</td>\n      <td>0.0</td>\n      <td>1.0</td>\n      <td>0.0</td>\n      <td>0.0</td>\n      <td>0.0</td>\n      <td>0.0</td>\n      <td>0.0</td>\n      <td>0.0</td>\n    </tr>\n    <tr>\n      <th>1324</th>\n      <td>/kaggle/input/dcsass-dataset/DCSASS Dataset/Bu...</td>\n      <td>Burglary</td>\n      <td>0.0</td>\n      <td>0.0</td>\n      <td>0.0</td>\n      <td>0.0</td>\n      <td>1.0</td>\n      <td>0.0</td>\n      <td>0.0</td>\n      <td>0.0</td>\n      <td>0.0</td>\n      <td>0.0</td>\n      <td>0.0</td>\n      <td>0.0</td>\n      <td>0.0</td>\n      <td>0.0</td>\n    </tr>\n    <tr>\n      <th>12008</th>\n      <td>/kaggle/input/dcsass-dataset/DCSASS Dataset/Ro...</td>\n      <td>Normal</td>\n      <td>0.0</td>\n      <td>0.0</td>\n      <td>0.0</td>\n      <td>0.0</td>\n      <td>0.0</td>\n      <td>0.0</td>\n      <td>0.0</td>\n      <td>1.0</td>\n      <td>0.0</td>\n      <td>0.0</td>\n      <td>0.0</td>\n      <td>0.0</td>\n      <td>0.0</td>\n      <td>0.0</td>\n    </tr>\n    <tr>\n      <th>9644</th>\n      <td>/kaggle/input/dcsass-dataset/DCSASS Dataset/St...</td>\n      <td>Stealing</td>\n      <td>0.0</td>\n      <td>0.0</td>\n      <td>0.0</td>\n      <td>0.0</td>\n      <td>0.0</td>\n      <td>0.0</td>\n      <td>0.0</td>\n      <td>0.0</td>\n      <td>0.0</td>\n      <td>0.0</td>\n      <td>0.0</td>\n      <td>0.0</td>\n      <td>1.0</td>\n      <td>0.0</td>\n    </tr>\n    <tr>\n      <th>1505</th>\n      <td>/kaggle/input/dcsass-dataset/DCSASS Dataset/Ab...</td>\n      <td>Normal</td>\n      <td>0.0</td>\n      <td>0.0</td>\n      <td>0.0</td>\n      <td>0.0</td>\n      <td>0.0</td>\n      <td>0.0</td>\n      <td>0.0</td>\n      <td>1.0</td>\n      <td>0.0</td>\n      <td>0.0</td>\n      <td>0.0</td>\n      <td>0.0</td>\n      <td>0.0</td>\n      <td>0.0</td>\n    </tr>\n  </tbody>\n</table>\n</div>"
     },
     "metadata": {}
    }
   ]
  },
  {
   "cell_type": "code",
   "source": [
    "df_encoded.drop('Label', axis=1, inplace=True)"
   ],
   "metadata": {
    "execution": {
     "iopub.status.busy": "2024-01-07T12:57:37.331326Z",
     "iopub.execute_input": "2024-01-07T12:57:37.331709Z",
     "iopub.status.idle": "2024-01-07T12:57:37.338294Z",
     "shell.execute_reply.started": "2024-01-07T12:57:37.331678Z",
     "shell.execute_reply": "2024-01-07T12:57:37.337303Z"
    },
    "trusted": true
   },
   "execution_count": 9,
   "outputs": []
  },
  {
   "cell_type": "code",
   "source": [
    "train_df.head()"
   ],
   "metadata": {
    "execution": {
     "iopub.status.busy": "2023-12-09T03:54:27.499449Z",
     "iopub.execute_input": "2023-12-09T03:54:27.500395Z",
     "iopub.status.idle": "2023-12-09T03:54:27.510021Z",
     "shell.execute_reply.started": "2023-12-09T03:54:27.500359Z",
     "shell.execute_reply": "2023-12-09T03:54:27.508839Z"
    },
    "trusted": true
   },
   "execution_count": null,
   "outputs": []
  },
  {
   "cell_type": "markdown",
   "source": [
    "**Feed the videos to a network:**"
   ],
   "metadata": {}
  },
  {
   "cell_type": "code",
   "source": [
    "IMG_SIZE = 224\n",
    "\n",
    "def load_video(path, max_frames=60, resize=(IMG_SIZE, IMG_SIZE)):\n",
    "    cap = cv2.VideoCapture(path)\n",
    "    frames = []\n",
    "\n",
    "    try:\n",
    "        for i in range(max_frames):\n",
    "            ret, frame = cap.read()\n",
    "            if not ret:\n",
    "                break\n",
    "\n",
    "            frame = cv2.resize(frame, resize)\n",
    "            frames.append(frame/255)\n",
    "\n",
    "    finally:\n",
    "        cap.release()\n",
    "\n",
    "    return frames"
   ],
   "metadata": {
    "execution": {
     "iopub.status.busy": "2024-01-07T22:22:14.584557Z",
     "iopub.execute_input": "2024-01-07T22:22:14.584977Z",
     "iopub.status.idle": "2024-01-07T22:22:14.592166Z",
     "shell.execute_reply.started": "2024-01-07T22:22:14.584944Z",
     "shell.execute_reply": "2024-01-07T22:22:14.590979Z"
    },
    "trusted": true
   },
   "execution_count": 43,
   "outputs": []
  },
  {
   "cell_type": "code",
   "source": [
    "IMG_SIZE = 224\n",
    "BATCH_SIZE = 64\n",
    "EPOCHS = 100\n",
    "MAX_SEQ_LENGTH = 60\n",
    "NUM_FEATURES = 2048\n",
    "cnt = 0"
   ],
   "metadata": {
    "execution": {
     "iopub.status.busy": "2024-01-07T22:22:17.847347Z",
     "iopub.execute_input": "2024-01-07T22:22:17.848193Z",
     "iopub.status.idle": "2024-01-07T22:22:17.852483Z",
     "shell.execute_reply.started": "2024-01-07T22:22:17.848158Z",
     "shell.execute_reply": "2024-01-07T22:22:17.851480Z"
    },
    "trusted": true
   },
   "execution_count": 44,
   "outputs": []
  },
  {
   "cell_type": "code",
   "source": [
    "validation_df = test_df.sample(100)\n",
    "validation_df.drop('Label', axis=1, inplace=True)"
   ],
   "metadata": {
    "execution": {
     "iopub.status.busy": "2024-01-07T16:02:10.354343Z",
     "iopub.execute_input": "2024-01-07T16:02:10.355294Z",
     "iopub.status.idle": "2024-01-07T16:02:10.362304Z",
     "shell.execute_reply.started": "2024-01-07T16:02:10.355258Z",
     "shell.execute_reply": "2024-01-07T16:02:10.360239Z"
    },
    "trusted": true
   },
   "execution_count": 55,
   "outputs": []
  },
  {
   "cell_type": "code",
   "source": [
    "print(len(train_labels))\n",
    "train_df = train_df[(train_df['Label'] == '0') | (train_df['Label'] == '1')]"
   ],
   "metadata": {
    "execution": {
     "iopub.status.busy": "2023-12-09T03:55:06.674836Z",
     "iopub.execute_input": "2023-12-09T03:55:06.675791Z",
     "iopub.status.idle": "2023-12-09T03:55:06.687322Z",
     "shell.execute_reply.started": "2023-12-09T03:55:06.675752Z",
     "shell.execute_reply": "2023-12-09T03:55:06.686293Z"
    },
    "trusted": true
   },
   "execution_count": null,
   "outputs": []
  },
  {
   "cell_type": "code",
   "source": [
    "train_df['Label'].unique()"
   ],
   "metadata": {
    "execution": {
     "iopub.status.busy": "2023-12-09T03:55:08.012457Z",
     "iopub.execute_input": "2023-12-09T03:55:08.013257Z",
     "iopub.status.idle": "2023-12-09T03:55:08.023802Z",
     "shell.execute_reply.started": "2023-12-09T03:55:08.013221Z",
     "shell.execute_reply": "2023-12-09T03:55:08.022726Z"
    },
    "trusted": true
   },
   "execution_count": null,
   "outputs": []
  },
  {
   "cell_type": "code",
   "source": [
    "train_df_lite = train_df.sample(500)"
   ],
   "metadata": {
    "execution": {
     "iopub.status.busy": "2024-01-07T15:33:00.309317Z",
     "iopub.execute_input": "2024-01-07T15:33:00.310289Z",
     "iopub.status.idle": "2024-01-07T15:33:00.315942Z",
     "shell.execute_reply.started": "2024-01-07T15:33:00.310253Z",
     "shell.execute_reply": "2024-01-07T15:33:00.314851Z"
    },
    "trusted": true
   },
   "execution_count": 41,
   "outputs": []
  },
  {
   "cell_type": "code",
   "source": [
    "# Utility for our sequence model.\n",
    "def get_sequence_model():\n",
    "\n",
    "\n",
    "    model = Sequential()\n",
    "\n",
    "    model.add(ConvLSTM2D(filters=4, kernel_size=(3, 3), activation='tanh', data_format='channels_last', \n",
    "                        recurrent_dropout=0.2, return_sequences=True, input_shape=(30, IMG_SIZE, IMG_SIZE, 3)))\n",
    "\n",
    "    model.add(MaxPooling3D(pool_size=(1, 2, 2), padding='same', data_format='channels_last'))\n",
    "    model.add(TimeDistributed(Dropout(0.2)))\n",
    "\n",
    "    model.add(ConvLSTM2D(filters=8, kernel_size=(3, 3), activation='tanh', data_format='channels_last', \n",
    "                        recurrent_dropout=0.2, return_sequences=True))\n",
    "\n",
    "    model.add(MaxPooling3D(pool_size=(1, 2, 2), padding='same', data_format='channels_last'))\n",
    "    model.add(TimeDistributed(Dropout(0.2)))\n",
    "\n",
    "    model.add(ConvLSTM2D(filters=14, kernel_size=(3, 3), activation='tanh', data_format='channels_last', \n",
    "                        recurrent_dropout=0.2, return_sequences=True))\n",
    "\n",
    "    model.add(MaxPooling3D(pool_size=(1, 2, 2), padding='same', data_format='channels_last'))\n",
    "    model.add(TimeDistributed(Dropout(0.2)))\n",
    "\n",
    "    model.add(ConvLSTM2D(filters=16, kernel_size=(3, 3), activation='tanh', data_format='channels_last', \n",
    "                        recurrent_dropout=0.2, return_sequences=True))\n",
    "\n",
    "    model.add(MaxPooling3D(pool_size=(1, 2, 2), padding='same', data_format='channels_last'))\n",
    "\n",
    "    model.add(Flatten())\n",
    "\n",
    "    model.add(Dense(14, activation=\"softmax\"))\n",
    "\n",
    "    model.compile(optimizer='adam', loss='categorical_crossentropy', metrics=['accuracy'])\n",
    "\n",
    "    model.summary()\n",
    "    \n",
    "    return model\n",
    "\n",
    "EPOCHS = 10"
   ],
   "metadata": {
    "execution": {
     "iopub.status.busy": "2024-01-07T15:22:04.069860Z",
     "iopub.execute_input": "2024-01-07T15:22:04.070225Z",
     "iopub.status.idle": "2024-01-07T15:22:04.083547Z",
     "shell.execute_reply.started": "2024-01-07T15:22:04.070196Z",
     "shell.execute_reply": "2024-01-07T15:22:04.082370Z"
    },
    "trusted": true
   },
   "execution_count": 32,
   "outputs": []
  },
  {
   "cell_type": "code",
   "source": [
    "train_df_lite.drop('Label', axis=1, inplace=True)"
   ],
   "metadata": {
    "execution": {
     "iopub.status.busy": "2024-01-07T15:23:04.649600Z",
     "iopub.execute_input": "2024-01-07T15:23:04.649987Z",
     "iopub.status.idle": "2024-01-07T15:23:04.656031Z",
     "shell.execute_reply.started": "2024-01-07T15:23:04.649957Z",
     "shell.execute_reply": "2024-01-07T15:23:04.654983Z"
    },
    "trusted": true
   },
   "execution_count": 34,
   "outputs": []
  },
  {
   "cell_type": "code",
   "source": [
    "import cv2\n",
    "import numpy as np\n",
    "from tensorflow.keras.utils import Sequence\n",
    "\n",
    "#Train dataset generator\n",
    "class VideoDataGenerator(Sequence):\n",
    "    def __init__(self, video_paths, labels, batch_size, frame_shape=(224, 224), shuffle=True):\n",
    "        self.video_paths = video_paths\n",
    "        self.labels = labels\n",
    "        self.batch_size = batch_size\n",
    "        self.frame_shape = frame_shape\n",
    "        self.shuffle = shuffle\n",
    "        self.on_epoch_end()\n",
    "\n",
    "    def __len__(self):\n",
    "        return int(np.ceil(len(self.video_paths) / self.batch_size))\n",
    "\n",
    "    def __getitem__(self, index):\n",
    "        indices = self.indices[index * self.batch_size:(index + 1) * self.batch_size]\n",
    "        batch_labels = []\n",
    "\n",
    "        batch_data = []\n",
    "        \n",
    "        for i in indices:\n",
    "            frames = self.load_and_preprocess_video(self.video_paths[i])\n",
    "            if(len(frames) == 30):\n",
    "                batch_data.append(frames)\n",
    "                batch_labels.append(self.labels[i])\n",
    "\n",
    "        return np.array(batch_data), np.array(batch_labels)\n",
    "\n",
    "    def on_epoch_end(self):\n",
    "        self.indices = np.arange(len(self.video_paths))\n",
    "        if self.shuffle:\n",
    "            np.random.shuffle(self.indices)\n",
    "\n",
    "    def load_and_preprocess_video(self, video_path):\n",
    "        cap = cv2.VideoCapture(video_path)\n",
    "        frames = []\n",
    "        while True:\n",
    "            ret, frame = cap.read()\n",
    "            if not ret:\n",
    "                break\n",
    "            # Resize frame to the desired shape\n",
    "            frame = cv2.resize(frame, self.frame_shape)\n",
    "            # Normalization\n",
    "            frames.append(frame/255)\n",
    "        cap.release()\n",
    "        return np.array(frames[:30])\n",
    "\n",
    "video_paths = train_df_lite['Video Path'].to_list()\n",
    "video_labels = np.array(train_df_lite.drop('Video Path', axis=1))\n",
    "batch_size = 2\n",
    "\n",
    "video_generator = VideoDataGenerator(video_paths, video_labels, batch_size)\n",
    "\n",
    "val_video_paths = validation_df['Video Path'].to_list()\n",
    "\n",
    "validation_generator = VideoDataGenerator(val_video_paths,\n",
    "                                                np.array(validation_df.drop('Video Path', axis=1)),\n",
    "                                                batch_size)\n",
    "\n",
    "model = get_sequence_model()\n",
    "\n",
    "history = model.fit(video_generator,\n",
    "                    epochs=60,\n",
    "                    steps_per_epoch=len(video_paths)//batch_size,\n",
    "                    validation_data=validation_generator,\n",
    "                    validation_steps=len(val_video_paths) // batch_size)\n"
   ],
   "metadata": {
    "execution": {
     "iopub.status.busy": "2024-01-07T22:26:45.764516Z",
     "iopub.execute_input": "2024-01-07T22:26:45.765179Z",
     "iopub.status.idle": "2024-01-07T22:26:45.778277Z",
     "shell.execute_reply.started": "2024-01-07T22:26:45.765146Z",
     "shell.execute_reply": "2024-01-07T22:26:45.777360Z"
    },
    "trusted": true
   },
   "execution_count": 49,
   "outputs": []
  },
  {
   "cell_type": "code",
   "source": [
    "plt.plot(history.history['accuracy'])\n",
    "plt.plot(history.history['val_accuracy'])\n",
    "plt.title('Model accuracy')\n",
    "plt.xlabel('Epoch')\n",
    "plt.ylabel('Accuracy')\n",
    "plt.legend(['Train', 'Validation'], loc='lower right')\n",
    "plt.show()\n"
   ],
   "metadata": {
    "execution": {
     "iopub.status.busy": "2024-01-07T19:27:31.138680Z",
     "iopub.execute_input": "2024-01-07T19:27:31.139112Z",
     "iopub.status.idle": "2024-01-07T19:27:31.425463Z",
     "shell.execute_reply.started": "2024-01-07T19:27:31.139072Z",
     "shell.execute_reply": "2024-01-07T19:27:31.424346Z"
    },
    "trusted": true
   },
   "execution_count": 59,
   "outputs": [
    {
     "output_type": "display_data",
     "data": {
      "text/plain": "<Figure size 640x480 with 1 Axes>",
      "image/png": "[encoded data removed]"
     },
     "metadata": {}
    }
   ]
  },
  {
   "cell_type": "code",
   "source": [
    "print(encoded_feature_names)"
   ],
   "metadata": {
    "execution": {
     "iopub.status.busy": "2024-01-06T18:35:00.453749Z",
     "iopub.execute_input": "2024-01-06T18:35:00.454190Z",
     "iopub.status.idle": "2024-01-06T18:35:00.459396Z",
     "shell.execute_reply.started": "2024-01-06T18:35:00.454155Z",
     "shell.execute_reply": "2024-01-06T18:35:00.458517Z"
    },
    "trusted": true
   },
   "execution_count": null,
   "outputs": []
  },
  {
   "cell_type": "code",
   "source": [
    "!pip install seaborn"
   ],
   "metadata": {
    "execution": {
     "iopub.status.busy": "2024-01-07T22:35:13.304722Z",
     "iopub.execute_input": "2024-01-07T22:35:13.305644Z",
     "iopub.status.idle": "2024-01-07T22:35:25.511459Z",
     "shell.execute_reply.started": "2024-01-07T22:35:13.305606Z",
     "shell.execute_reply": "2024-01-07T22:35:25.510405Z"
    },
    "trusted": true
   },
   "execution_count": 77,
   "outputs": [
    {
     "name": "stdout",
     "text": "Requirement already satisfied: seaborn in /opt/conda/lib/python3.10/site-packages (0.12.2)\nRequirement already satisfied: numpy!=1.24.0,>=1.17 in /opt/conda/lib/python3.10/site-packages (from seaborn) (1.24.3)\nRequirement already satisfied: pandas>=0.25 in /opt/conda/lib/python3.10/site-packages (from seaborn) (2.0.3)\nRequirement already satisfied: matplotlib!=3.6.1,>=3.1 in /opt/conda/lib/python3.10/site-packages (from seaborn) (3.7.3)\nRequirement already satisfied: contourpy>=1.0.1 in /opt/conda/lib/python3.10/site-packages (from matplotlib!=3.6.1,>=3.1->seaborn) (1.1.0)\nRequirement already satisfied: cycler>=0.10 in /opt/conda/lib/python3.10/site-packages (from matplotlib!=3.6.1,>=3.1->seaborn) (0.11.0)\nRequirement already satisfied: fonttools>=4.22.0 in /opt/conda/lib/python3.10/site-packages (from matplotlib!=3.6.1,>=3.1->seaborn) (4.42.1)\nRequirement already satisfied: kiwisolver>=1.0.1 in /opt/conda/lib/python3.10/site-packages (from matplotlib!=3.6.1,>=3.1->seaborn) (1.4.4)\nRequirement already satisfied: packaging>=20.0 in /opt/conda/lib/python3.10/site-packages (from matplotlib!=3.6.1,>=3.1->seaborn) (21.3)\nRequirement already satisfied: pillow>=6.2.0 in /opt/conda/lib/python3.10/site-packages (from matplotlib!=3.6.1,>=3.1->seaborn) (10.1.0)\nRequirement already satisfied: pyparsing>=2.3.1 in /opt/conda/lib/python3.10/site-packages (from matplotlib!=3.6.1,>=3.1->seaborn) (3.0.9)\nRequirement already satisfied: python-dateutil>=2.7 in /opt/conda/lib/python3.10/site-packages (from matplotlib!=3.6.1,>=3.1->seaborn) (2.8.2)\nRequirement already satisfied: pytz>=2020.1 in /opt/conda/lib/python3.10/site-packages (from pandas>=0.25->seaborn) (2023.3)\nRequirement already satisfied: tzdata>=2022.1 in /opt/conda/lib/python3.10/site-packages (from pandas>=0.25->seaborn) (2023.3)\nRequirement already satisfied: six>=1.5 in /opt/conda/lib/python3.10/site-packages (from python-dateutil>=2.7->matplotlib!=3.6.1,>=3.1->seaborn) (1.16.0)\n",
     "output_type": "stream"
    }
   ]
  },
  {
   "cell_type": "code",
   "source": [
    "test_encoded.shape"
   ],
   "metadata": {
    "execution": {
     "iopub.status.busy": "2024-01-07T22:35:25.513429Z",
     "iopub.execute_input": "2024-01-07T22:35:25.513756Z",
     "iopub.status.idle": "2024-01-07T22:35:25.520522Z",
     "shell.execute_reply.started": "2024-01-07T22:35:25.513727Z",
     "shell.execute_reply": "2024-01-07T22:35:25.519582Z"
    },
    "trusted": true
   },
   "execution_count": 78,
   "outputs": [
    {
     "execution_count": 78,
     "output_type": "execute_result",
     "data": {
      "text/plain": "(140, 16)"
     },
     "metadata": {}
    }
   ]
  },
  {
   "cell_type": "code",
   "source": [
    "from sklearn.metrics import confusion_matrix, ConfusionMatrixDisplay\n",
    "from sklearn.metrics import accuracy_score, f1_score, classification_report\n",
    "import seaborn as sns\n",
    "\n",
    "test_data = np.array(test_encoded['Video Path'])\n",
    "test_values = np.array(test_encoded.drop(['Video Path', 'Label'], axis=1))\n",
    "test_generator = VideoDataGenerator(test_data, test_values, batch_size)\n",
    "\n",
    "test_video_generator = VideoDataGenerator(test_data, test_values, batch_size)\n",
    "\n",
    "y_pred_one_hot = model.predict(test_video_generator)\n",
    "\n",
    "# Step 3: Convert one-hot encoded labels and predictions to categorical labels\n",
    "y_true_categorical = np.argmax(test_values, axis=1)\n",
    "y_pred_categorical = np.argmax(y_pred_one_hot, axis=1)\n",
    "\n",
    "# Step 4: Compute and display the confusion matrix\n",
    "cm = confusion_matrix(y_true_categorical, y_pred_categorical)\n",
    "classes = encoded_feature_names\n",
    "sns.heatmap(cm, annot=True, fmt=\"d\", cmap=\"Blues\", xticklabels=classes, yticklabels=classes)\n",
    "#disp = ConfusionMatrixDisplay(confusion_matrix=cm, display_labels=classes)\n",
    "#disp.plot(cmap='Blues', values_format='d')  # 'd' for integer format\n",
    "plt.show()\n"
   ],
   "metadata": {
    "execution": {
     "iopub.status.busy": "2024-01-07T22:35:25.521674Z",
     "iopub.execute_input": "2024-01-07T22:35:25.521936Z",
     "iopub.status.idle": "2024-01-07T22:35:39.623321Z",
     "shell.execute_reply.started": "2024-01-07T22:35:25.521912Z",
     "shell.execute_reply": "2024-01-07T22:35:39.622504Z"
    },
    "trusted": true
   },
   "execution_count": 79,
   "outputs": [
    {
     "name": "stdout",
     "text": "70/70 [==============================] - 13s 186ms/step\n",
     "output_type": "stream"
    },
    {
     "output_type": "display_data",
     "data": {
      "text/plain": "<Figure size 640x480 with 2 Axes>",
      "image/png": "[encoded data removed]"
     },
     "metadata": {}
    }
   ]
  },
  {
   "cell_type": "code",
   "source": [
    "y_pred_categorical"
   ],
   "metadata": {
    "execution": {
     "iopub.status.busy": "2024-01-07T13:27:36.591774Z",
     "iopub.execute_input": "2024-01-07T13:27:36.592130Z",
     "iopub.status.idle": "2024-01-07T13:27:36.598669Z",
     "shell.execute_reply.started": "2024-01-07T13:27:36.592104Z",
     "shell.execute_reply": "2024-01-07T13:27:36.597818Z"
    },
    "trusted": true
   },
   "execution_count": 29,
   "outputs": [
    {
     "execution_count": 29,
     "output_type": "execute_result",
     "data": {
      "text/plain": "array([7, 4, 4, 4, 4, 4, 7, 4, 4, 4, 4, 4, 4, 4, 4, 7, 4, 4, 4, 4, 4, 4,\n       4, 4, 4, 4, 4, 4, 4, 4, 4, 7, 4, 4, 4, 4, 4, 4, 4, 7, 4, 4, 4, 4,\n       4, 4, 4, 4, 4, 4, 4, 4, 4, 4, 4, 4, 4, 4, 4, 4, 4, 4, 4, 7, 7, 4,\n       4, 4, 4, 4, 4, 4, 4, 4, 7, 4, 4, 4, 4, 4, 4, 4, 4, 4, 4, 4, 4, 4,\n       4, 4, 7, 4, 4, 7, 4, 7, 4, 4, 7, 4])"
     },
     "metadata": {}
    }
   ]
  },
  {
   "cell_type": "code",
   "source": [
    "y_pred_one_hot"
   ],
   "metadata": {
    "execution": {
     "iopub.status.busy": "2024-01-07T13:29:56.431982Z",
     "iopub.execute_input": "2024-01-07T13:29:56.432386Z",
     "iopub.status.idle": "2024-01-07T13:29:56.441041Z",
     "shell.execute_reply.started": "2024-01-07T13:29:56.432352Z",
     "shell.execute_reply": "2024-01-07T13:29:56.440015Z"
    },
    "trusted": true
   },
   "execution_count": 30,
   "outputs": [
    {
     "execution_count": 30,
     "output_type": "execute_result",
     "data": {
      "text/plain": "array([[2.92314537e-04, 4.79886621e-05, 1.46929406e-05, ...,\n        8.09984864e-04, 8.58704001e-03, 5.74955484e-04],\n       [1.53776637e-04, 3.47485657e-05, 4.19965386e-03, ...,\n        1.62758143e-03, 8.31620675e-03, 5.23366593e-03],\n       [2.04077689e-04, 1.97342539e-04, 1.67026964e-03, ...,\n        9.36524957e-05, 6.36408979e-04, 9.32502444e-04],\n       ...,\n       [7.02669993e-02, 8.05147737e-03, 2.62047397e-03, ...,\n        2.00212910e-03, 8.36591423e-03, 1.39962672e-03],\n       [1.51315350e-02, 2.51601879e-02, 3.97826498e-03, ...,\n        2.78631249e-03, 1.05118295e-02, 1.83948372e-02],\n       [6.98607619e-05, 8.04225929e-05, 1.16236224e-05, ...,\n        3.04838672e-04, 9.15315293e-04, 4.96653328e-03]], dtype=float32)"
     },
     "metadata": {}
    }
   ]
  },
  {
   "cell_type": "code",
   "source": [
    "model.save(\"model.h5\")"
   ],
   "metadata": {
    "execution": {
     "iopub.status.busy": "2024-01-06T18:24:23.552803Z",
     "iopub.execute_input": "2024-01-06T18:24:23.553189Z",
     "iopub.status.idle": "2024-01-06T18:24:23.631604Z",
     "shell.execute_reply.started": "2024-01-06T18:24:23.553155Z",
     "shell.execute_reply": "2024-01-06T18:24:23.630611Z"
    },
    "trusted": true
   },
   "execution_count": null,
   "outputs": []
  },
  {
   "cell_type": "code",
   "source": [
    "model = tf.keras.models.load_model('/kaggle/input/modelai/model.h5')"
   ],
   "metadata": {
    "execution": {
     "iopub.status.busy": "2024-01-07T22:27:53.647269Z",
     "iopub.execute_input": "2024-01-07T22:27:53.647653Z",
     "iopub.status.idle": "2024-01-07T22:27:54.812313Z",
     "shell.execute_reply.started": "2024-01-07T22:27:53.647620Z",
     "shell.execute_reply": "2024-01-07T22:27:54.811506Z"
    },
    "trusted": true
   },
   "execution_count": 52,
   "outputs": []
  },
  {
   "cell_type": "code",
   "source": [
    "report = classification_report(y_true_categorical, y_pred_categorical)\n",
    "print('Classification Report:\\n', report)"
   ],
   "metadata": {
    "execution": {
     "iopub.status.busy": "2024-01-07T22:35:39.625901Z",
     "iopub.execute_input": "2024-01-07T22:35:39.626264Z",
     "iopub.status.idle": "2024-01-07T22:35:39.640371Z",
     "shell.execute_reply.started": "2024-01-07T22:35:39.626228Z",
     "shell.execute_reply": "2024-01-07T22:35:39.639489Z"
    },
    "trusted": true
   },
   "execution_count": 80,
   "outputs": [
    {
     "name": "stdout",
     "text": "Classification Report:\n               precision    recall  f1-score   support\n\n           0       0.83      0.08      0.15       122\n           2       0.00      0.00      0.00         1\n           3       0.00      0.00      0.00         0\n           4       0.00      0.00      0.00        10\n           5       0.00      0.00      0.00         0\n           7       0.02      0.50      0.03         2\n           8       0.00      0.00      0.00         5\n          10       0.00      0.00      0.00         0\n          11       0.00      0.00      0.00         0\n          12       0.00      0.00      0.00         0\n          13       0.00      0.00      0.00         0\n\n    accuracy                           0.08       140\n   macro avg       0.08      0.05      0.02       140\nweighted avg       0.73      0.08      0.13       140\n\n",
     "output_type": "stream"
    },
    {
     "name": "stderr",
     "text": "/opt/conda/lib/python3.10/site-packages/sklearn/metrics/_classification.py:1344: UndefinedMetricWarning: Precision and F-score are ill-defined and being set to 0.0 in labels with no predicted samples. Use `zero_division` parameter to control this behavior.\n  _warn_prf(average, modifier, msg_start, len(result))\n/opt/conda/lib/python3.10/site-packages/sklearn/metrics/_classification.py:1344: UndefinedMetricWarning: Recall and F-score are ill-defined and being set to 0.0 in labels with no true samples. Use `zero_division` parameter to control this behavior.\n  _warn_prf(average, modifier, msg_start, len(result))\n/opt/conda/lib/python3.10/site-packages/sklearn/metrics/_classification.py:1344: UndefinedMetricWarning: Precision and F-score are ill-defined and being set to 0.0 in labels with no predicted samples. Use `zero_division` parameter to control this behavior.\n  _warn_prf(average, modifier, msg_start, len(result))\n/opt/conda/lib/python3.10/site-packages/sklearn/metrics/_classification.py:1344: UndefinedMetricWarning: Recall and F-score are ill-defined and being set to 0.0 in labels with no true samples. Use `zero_division` parameter to control this behavior.\n  _warn_prf(average, modifier, msg_start, len(result))\n/opt/conda/lib/python3.10/site-packages/sklearn/metrics/_classification.py:1344: UndefinedMetricWarning: Precision and F-score are ill-defined and being set to 0.0 in labels with no predicted samples. Use `zero_division` parameter to control this behavior.\n  _warn_prf(average, modifier, msg_start, len(result))\n/opt/conda/lib/python3.10/site-packages/sklearn/metrics/_classification.py:1344: UndefinedMetricWarning: Recall and F-score are ill-defined and being set to 0.0 in labels with no true samples. Use `zero_division` parameter to control this behavior.\n  _warn_prf(average, modifier, msg_start, len(result))\n",
     "output_type": "stream"
    }
   ]
  }
 ]
}
