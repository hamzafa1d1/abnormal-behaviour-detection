{
  "nbformat": 4,
  "nbformat_minor": 0,
  "metadata": {
    "colab": {
      "provenance": []
    },
    "kernelspec": {
      "name": "python3",
      "display_name": "Python 3"
    },
    "language_info": {
      "name": "python"
    }
  },
  "cells": [
    {
      "cell_type": "code",
      "execution_count": null,
      "metadata": {
        "id": "P3rFwCNLEr7R"
      },
      "outputs": [],
      "source": [
        "import os\n",
        "import numpy as np\n",
        "import cv2\n",
        "import pandas as pd\n",
        "import csv\n",
        "import os\n",
        "import tensorflow as tf\n",
        "from tensorflow import keras\n",
        "from tensorflow.keras.layers import *\n",
        "from tensorflow.keras.optimizers import Adam"
      ]
    },
    {
      "cell_type": "code",
      "source": [
        "model = tf.keras.models.load_model('/content/model.h5')"
      ],
      "metadata": {
        "id": "HuZU8tt7Fgy-"
      },
      "execution_count": null,
      "outputs": []
    },
    {
      "cell_type": "code",
      "source": [
        "def load_video(path, max_frames=30, resize=(224, 224)):\n",
        "    cap = cv2.VideoCapture(path)\n",
        "    frames = []\n",
        "\n",
        "    try:\n",
        "        for i in range(max_frames):\n",
        "            ret, frame = cap.read()\n",
        "            if not ret:\n",
        "                break\n",
        "\n",
        "            frame = cv2.resize(frame, resize)\n",
        "            frames.append(frame/255)\n",
        "\n",
        "    finally:\n",
        "        cap.release()\n",
        "\n",
        "    return frames"
      ],
      "metadata": {
        "id": "_nCPs0RmF2Ux"
      },
      "execution_count": null,
      "outputs": []
    },
    {
      "cell_type": "code",
      "source": [
        "import cv2\n",
        "import os\n",
        "\n",
        "def save_video_segments(video_path, output_dir, frames_per_segment=30):\n",
        "    # Open the video file\n",
        "    cap = cv2.VideoCapture(video_path)\n",
        "\n",
        "    # Get video properties\n",
        "    fps = int(cap.get(cv2.CAP_PROP_FPS))\n",
        "    total_frames = int(cap.get(cv2.CAP_PROP_FRAME_COUNT))\n",
        "\n",
        "    # Create output directory if it doesn't exist\n",
        "    if not os.path.exists(output_dir):\n",
        "        os.makedirs(output_dir)\n",
        "\n",
        "    # Calculate the number of segments\n",
        "    num_segments = total_frames // frames_per_segment\n",
        "\n",
        "    frame_count = 0\n",
        "\n",
        "    # Read and save video segments\n",
        "    for i in range(num_segments):\n",
        "        frames = []\n",
        "        for j in range(frames_per_segment):\n",
        "            ret, frame = cap.read()\n",
        "            if not ret:\n",
        "                break\n",
        "            frames.append(frame)\n",
        "\n",
        "        # Check if we have enough frames for a segment\n",
        "        if len(frames) == frames_per_segment:\n",
        "            # Create a VideoWriter object for the segment\n",
        "            fourcc = cv2.VideoWriter_fourcc(*'mp4v')\n",
        "            output_path = os.path.join(output_dir, f'segment_{i+1}.mp4')\n",
        "            out = cv2.VideoWriter(output_path, fourcc, fps, (int(cap.get(3)), int(cap.get(4))))\n",
        "\n",
        "            # Write each frame to the video file\n",
        "            for frame in frames:\n",
        "                out.write(frame)\n",
        "\n",
        "            # Release the VideoWriter\n",
        "            out.release()\n",
        "\n",
        "    # Release the VideoCapture\n",
        "    cap.release()\n",
        "\n",
        "# Example usage\n",
        "video_path = '/content/robbery.mp4'\n",
        "output_directory = '/content/segment'\n",
        "save_video_segments(video_path, output_directory)\n"
      ],
      "metadata": {
        "id": "EDSXhs5vcjXm"
      },
      "execution_count": null,
      "outputs": []
    },
    {
      "cell_type": "code",
      "source": [
        "from tensorflow.keras.utils import Sequence\n",
        "\n",
        "class VideoDataGenerator(Sequence):\n",
        "    def __init__(self, video_paths, labels, batch_size, frame_shape=(224, 224), shuffle=True):\n",
        "        self.video_paths = video_paths\n",
        "        self.labels = labels\n",
        "        self.batch_size = batch_size\n",
        "        self.frame_shape = frame_shape\n",
        "        self.shuffle = shuffle\n",
        "        self.on_epoch_end()\n",
        "\n",
        "    def __len__(self):\n",
        "        return int(np.ceil(len(self.video_paths) / self.batch_size))\n",
        "\n",
        "    def __getitem__(self, index):\n",
        "        indices = self.indices[index * self.batch_size:(index + 1) * self.batch_size]\n",
        "        batch_labels = []\n",
        "\n",
        "        batch_data = []\n",
        "\n",
        "        for i in indices:\n",
        "            frames = self.load_and_preprocess_video(self.video_paths[i])\n",
        "            if(len(frames) == 30):\n",
        "                batch_data.append(frames)\n",
        "                batch_labels.append(self.labels[i])\n",
        "\n",
        "        return np.array(batch_data), np.array(batch_labels)\n",
        "\n",
        "    def on_epoch_end(self):\n",
        "        self.indices = np.arange(len(self.video_paths))\n",
        "        if self.shuffle:\n",
        "            np.random.shuffle(self.indices)\n",
        "\n",
        "    def load_and_preprocess_video(self, video_path):\n",
        "        cap = cv2.VideoCapture(video_path)\n",
        "        frames = []\n",
        "        while True:\n",
        "            ret, frame = cap.read()\n",
        "            if not ret:\n",
        "                break\n",
        "            frame = cv2.resize(frame, self.frame_shape)\n",
        "            frames.append(frame/255)\n",
        "        cap.release()\n",
        "        return np.array(frames[:30])\n",
        "\n",
        "video_paths = ['/content/segments/segment_{}.mp4'.format(i) for i in range(1, 17)]\n",
        "video_labels = [1 for i in range(16)]\n",
        "batch_size = 2\n",
        "\n",
        "video_generator = VideoDataGenerator(video_paths, video_labels, batch_size)\n"
      ],
      "metadata": {
        "id": "j_qKHcQxHwfJ"
      },
      "execution_count": null,
      "outputs": []
    },
    {
      "cell_type": "code",
      "source": [
        "len(frames)"
      ],
      "metadata": {
        "colab": {
          "base_uri": "https://localhost:8080/"
        },
        "id": "89FPkC9eIAU5",
        "outputId": "c2127a1e-758e-4a48-f40d-15aa79be4929"
      },
      "execution_count": null,
      "outputs": [
        {
          "output_type": "execute_result",
          "data": {
            "text/plain": [
              "30"
            ]
          },
          "metadata": {},
          "execution_count": 13
        }
      ]
    },
    {
      "cell_type": "code",
      "source": [
        "prediction = model.predict(video_generator)"
      ],
      "metadata": {
        "colab": {
          "base_uri": "https://localhost:8080/"
        },
        "id": "Kq4nozvhIDQC",
        "outputId": "f7a6a3e4-2013-4f0e-ed3a-f8dd04520022"
      },
      "execution_count": null,
      "outputs": [
        {
          "output_type": "stream",
          "name": "stdout",
          "text": [
            "8/8 [==============================] - 35s 4s/step\n"
          ]
        }
      ]
    },
    {
      "cell_type": "code",
      "source": [
        "prediction"
      ],
      "metadata": {
        "colab": {
          "base_uri": "https://localhost:8080/"
        },
        "id": "Xbt8FFkLngIi",
        "outputId": "c3f4dce5-f3c9-49eb-8ca3-f4e619d41eaa"
      },
      "execution_count": null,
      "outputs": [
        {
          "output_type": "execute_result",
          "data": {
            "text/plain": [
              "array([[2.24222153e-04, 3.40225961e-05, 6.84058468e-04, 2.19395082e-03,\n",
              "        3.47813852e-02, 1.75224704e-05, 1.19122515e-05, 8.82567465e-01,\n",
              "        1.06997555e-03, 6.28492460e-02, 1.04065123e-03, 6.18816295e-04,\n",
              "        1.33615956e-02, 5.45095070e-04],\n",
              "       [1.99848655e-04, 3.23876811e-05, 8.03969684e-04, 8.04600539e-04,\n",
              "        1.41205126e-03, 2.74694557e-05, 4.07141633e-05, 5.97266138e-01,\n",
              "        2.50639860e-04, 6.46675676e-02, 1.03982922e-04, 3.93103168e-04,\n",
              "        3.33821118e-01, 1.76362781e-04],\n",
              "       [4.07243118e-04, 2.64854752e-05, 3.26124631e-04, 2.96223414e-04,\n",
              "        3.33619281e-03, 3.98586126e-05, 3.76644930e-05, 8.46745193e-01,\n",
              "        1.79091905e-04, 4.73360047e-02, 2.62608868e-04, 3.81378137e-04,\n",
              "        1.00324742e-01, 3.01172462e-04],\n",
              "       [5.21958980e-04, 2.73891874e-06, 6.69467612e-04, 5.52367140e-03,\n",
              "        8.35453067e-03, 2.12909290e-04, 2.61228997e-05, 7.75075197e-01,\n",
              "        1.70788250e-03, 1.89956114e-01, 8.74346064e-04, 6.53293042e-04,\n",
              "        1.56806186e-02, 7.41238764e-04],\n",
              "       [1.02167996e-03, 1.04334809e-04, 1.34372048e-03, 3.57267167e-03,\n",
              "        6.42815745e-03, 3.39916092e-04, 2.63256352e-05, 5.56637049e-01,\n",
              "        4.20157012e-04, 3.29084605e-01, 1.41557702e-03, 1.29049266e-04,\n",
              "        9.75791365e-02, 1.89756101e-03],\n",
              "       [2.34008316e-04, 5.20824513e-04, 1.88684650e-03, 1.65898225e-03,\n",
              "        1.08251423e-02, 1.03500315e-04, 5.47902382e-05, 5.96746862e-01,\n",
              "        1.03812944e-03, 3.49492520e-01, 1.53897889e-03, 4.09120606e-04,\n",
              "        3.51122506e-02, 3.78021796e-04],\n",
              "       [1.23815204e-03, 6.71291264e-06, 8.57089297e-04, 1.98841095e-03,\n",
              "        8.17493722e-03, 4.36471950e-04, 3.35094264e-05, 6.62111878e-01,\n",
              "        3.54053947e-04, 2.62222439e-01, 1.00669300e-03, 3.23628890e-04,\n",
              "        6.09606057e-02, 2.85442598e-04],\n",
              "       [8.79920379e-04, 3.13679302e-05, 5.67632145e-04, 1.13809470e-03,\n",
              "        1.45852927e-03, 3.12564429e-04, 4.98470804e-03, 7.62229502e-01,\n",
              "        3.75269447e-03, 2.13168547e-01, 4.35904047e-04, 7.09023734e-04,\n",
              "        8.85565393e-03, 1.47583603e-03],\n",
              "       [1.39423588e-03, 1.65654874e-05, 1.59599818e-03, 2.25461391e-03,\n",
              "        6.97031524e-03, 4.73907043e-04, 2.32988295e-05, 5.21671295e-01,\n",
              "        4.72434825e-04, 3.02609652e-01, 1.51999120e-03, 6.26897498e-04,\n",
              "        1.60037100e-01, 3.33651376e-04],\n",
              "       [4.23671387e-04, 4.00406407e-06, 3.62634950e-04, 1.44872535e-03,\n",
              "        1.57909340e-03, 4.03498765e-04, 2.44053899e-05, 6.25858009e-01,\n",
              "        6.28259266e-04, 3.49122912e-01, 4.15260933e-04, 1.86173245e-04,\n",
              "        1.93048734e-02, 2.38500244e-04],\n",
              "       [8.40850174e-04, 1.37223324e-04, 2.84002325e-03, 4.00174147e-04,\n",
              "        3.24472319e-03, 1.70870291e-04, 1.48547442e-05, 3.77924234e-01,\n",
              "        2.65092269e-04, 1.94403529e-01, 4.82028670e-04, 3.03739274e-04,\n",
              "        4.16398346e-01, 2.57431832e-03],\n",
              "       [4.54372144e-04, 4.74977169e-05, 2.53563817e-03, 7.48834154e-03,\n",
              "        2.41968455e-03, 5.13244246e-04, 8.60840591e-05, 5.02598226e-01,\n",
              "        5.91159274e-04, 2.88699001e-01, 5.53174468e-04, 4.87162964e-04,\n",
              "        1.92047790e-01, 1.47854164e-03],\n",
              "       [3.06184549e-04, 1.91555046e-05, 1.77925016e-04, 6.49609487e-04,\n",
              "        6.18993957e-03, 1.66766695e-05, 5.33811253e-05, 2.85087883e-01,\n",
              "        2.19200971e-04, 4.64928709e-02, 1.03394108e-04, 1.55666858e-04,\n",
              "        6.59746289e-01, 7.81809911e-04],\n",
              "       [1.43885132e-04, 2.58006767e-05, 2.31201804e-04, 9.18354839e-04,\n",
              "        3.74562631e-04, 2.42850874e-04, 1.10325881e-03, 5.43812633e-01,\n",
              "        3.16897844e-04, 4.44656909e-01, 1.47386643e-04, 6.32016861e-04,\n",
              "        6.92392699e-03, 4.70362691e-04],\n",
              "       [1.76284753e-04, 1.13082224e-05, 2.52579967e-03, 9.87944659e-04,\n",
              "        2.30074744e-03, 4.93872431e-05, 2.83699064e-05, 6.65079594e-01,\n",
              "        5.54386002e-04, 1.92711651e-02, 6.94493938e-05, 2.67886760e-04,\n",
              "        3.08460355e-01, 2.17209817e-04],\n",
              "       [5.94396377e-04, 2.00050526e-05, 1.61254266e-03, 2.85553606e-03,\n",
              "        1.92518141e-02, 1.79056020e-04, 2.47426487e-05, 4.85319406e-01,\n",
              "        1.24258397e-03, 4.45389032e-01, 2.48561241e-03, 1.39123527e-03,\n",
              "        3.93351354e-02, 2.98947096e-04]], dtype=float32)"
            ]
          },
          "metadata": {},
          "execution_count": 52
        }
      ]
    },
    {
      "cell_type": "code",
      "source": [
        "column_averages = np.mean(prediction, axis=0)\n",
        "\n",
        "print(column_averages)"
      ],
      "metadata": {
        "colab": {
          "base_uri": "https://localhost:8080/"
        },
        "id": "XJt2i8mcJIt7",
        "outputId": "2d5a13d8-8166-413f-cd3d-8659e1f85881"
      },
      "execution_count": null,
      "outputs": [
        {
          "output_type": "stream",
          "name": "stdout",
          "text": [
            "[5.6630705e-04 6.5027183e-05 1.1887921e-03 2.1362442e-03 7.3188632e-03\n",
            " 2.2123150e-04 4.1088389e-04 6.0542059e-01 8.1641483e-04 2.2558886e-01\n",
            " 7.7844004e-04 4.7926200e-04 1.5424687e-01 7.6212944e-04]\n"
          ]
        }
      ]
    },
    {
      "cell_type": "code",
      "source": [],
      "metadata": {
        "id": "WpTRMZCE2Upt"
      },
      "execution_count": null,
      "outputs": []
    }
  ]
}